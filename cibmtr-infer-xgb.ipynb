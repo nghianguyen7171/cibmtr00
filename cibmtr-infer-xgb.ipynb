{
 "cells": [
  {
   "cell_type": "code",
   "execution_count": 1,
   "id": "4a0890bb",
   "metadata": {
    "_cell_guid": "b1076dfc-b9ad-4769-8c92-a6c4dae69d19",
    "_uuid": "8f2839f25d086af736a60e9eeb907d3b93b6e0e5",
    "execution": {
     "iopub.execute_input": "2025-02-14T04:38:44.958256Z",
     "iopub.status.busy": "2025-02-14T04:38:44.957888Z",
     "iopub.status.idle": "2025-02-14T04:39:12.239126Z",
     "shell.execute_reply": "2025-02-14T04:39:12.237603Z"
    },
    "papermill": {
     "duration": 27.289067,
     "end_time": "2025-02-14T04:39:12.242042",
     "exception": false,
     "start_time": "2025-02-14T04:38:44.952975",
     "status": "completed"
    },
    "tags": []
   },
   "outputs": [
    {
     "name": "stdout",
     "output_type": "stream",
     "text": [
      "Processing /kaggle/input/pip-install-lifelines/autograd-1.7.0-py3-none-any.whl\r\n",
      "Requirement already satisfied: numpy in /usr/local/lib/python3.10/dist-packages (from autograd==1.7.0) (1.26.4)\r\n",
      "Requirement already satisfied: mkl_fft in /usr/local/lib/python3.10/dist-packages (from numpy->autograd==1.7.0) (1.3.8)\r\n",
      "Requirement already satisfied: mkl_random in /usr/local/lib/python3.10/dist-packages (from numpy->autograd==1.7.0) (1.2.4)\r\n",
      "Requirement already satisfied: mkl_umath in /usr/local/lib/python3.10/dist-packages (from numpy->autograd==1.7.0) (0.1.1)\r\n",
      "Requirement already satisfied: mkl in /usr/local/lib/python3.10/dist-packages (from numpy->autograd==1.7.0) (2025.0.1)\r\n",
      "Requirement already satisfied: tbb4py in /usr/local/lib/python3.10/dist-packages (from numpy->autograd==1.7.0) (2022.0.0)\r\n",
      "Requirement already satisfied: mkl-service in /usr/local/lib/python3.10/dist-packages (from numpy->autograd==1.7.0) (2.4.1)\r\n",
      "Requirement already satisfied: intel-openmp>=2024 in /usr/local/lib/python3.10/dist-packages (from mkl->numpy->autograd==1.7.0) (2024.2.0)\r\n",
      "Requirement already satisfied: tbb==2022.* in /usr/local/lib/python3.10/dist-packages (from mkl->numpy->autograd==1.7.0) (2022.0.0)\r\n",
      "Requirement already satisfied: tcmlib==1.* in /usr/local/lib/python3.10/dist-packages (from tbb==2022.*->mkl->numpy->autograd==1.7.0) (1.2.0)\r\n",
      "Requirement already satisfied: intel-cmplr-lib-rt in /usr/local/lib/python3.10/dist-packages (from mkl_umath->numpy->autograd==1.7.0) (2024.2.0)\r\n",
      "Requirement already satisfied: intel-cmplr-lib-ur==2024.2.0 in /usr/local/lib/python3.10/dist-packages (from intel-openmp>=2024->mkl->numpy->autograd==1.7.0) (2024.2.0)\r\n",
      "autograd is already installed with the same version as the provided wheel. Use --force-reinstall to force an installation of the wheel.\r\n",
      "Processing /kaggle/input/pip-install-lifelines/autograd-gamma-0.5.0.tar.gz\r\n",
      "  Preparing metadata (setup.py) ... \u001b[?25l\u001b[?25hdone\r\n",
      "Requirement already satisfied: autograd>=1.2.0 in /usr/local/lib/python3.10/dist-packages (from autograd-gamma==0.5.0) (1.7.0)\r\n",
      "Requirement already satisfied: scipy>=1.2.0 in /usr/local/lib/python3.10/dist-packages (from autograd-gamma==0.5.0) (1.13.1)\r\n",
      "Requirement already satisfied: numpy in /usr/local/lib/python3.10/dist-packages (from autograd>=1.2.0->autograd-gamma==0.5.0) (1.26.4)\r\n",
      "Requirement already satisfied: mkl_fft in /usr/local/lib/python3.10/dist-packages (from numpy->autograd>=1.2.0->autograd-gamma==0.5.0) (1.3.8)\r\n",
      "Requirement already satisfied: mkl_random in /usr/local/lib/python3.10/dist-packages (from numpy->autograd>=1.2.0->autograd-gamma==0.5.0) (1.2.4)\r\n",
      "Requirement already satisfied: mkl_umath in /usr/local/lib/python3.10/dist-packages (from numpy->autograd>=1.2.0->autograd-gamma==0.5.0) (0.1.1)\r\n",
      "Requirement already satisfied: mkl in /usr/local/lib/python3.10/dist-packages (from numpy->autograd>=1.2.0->autograd-gamma==0.5.0) (2025.0.1)\r\n",
      "Requirement already satisfied: tbb4py in /usr/local/lib/python3.10/dist-packages (from numpy->autograd>=1.2.0->autograd-gamma==0.5.0) (2022.0.0)\r\n",
      "Requirement already satisfied: mkl-service in /usr/local/lib/python3.10/dist-packages (from numpy->autograd>=1.2.0->autograd-gamma==0.5.0) (2.4.1)\r\n",
      "Requirement already satisfied: intel-openmp>=2024 in /usr/local/lib/python3.10/dist-packages (from mkl->numpy->autograd>=1.2.0->autograd-gamma==0.5.0) (2024.2.0)\r\n",
      "Requirement already satisfied: tbb==2022.* in /usr/local/lib/python3.10/dist-packages (from mkl->numpy->autograd>=1.2.0->autograd-gamma==0.5.0) (2022.0.0)\r\n",
      "Requirement already satisfied: tcmlib==1.* in /usr/local/lib/python3.10/dist-packages (from tbb==2022.*->mkl->numpy->autograd>=1.2.0->autograd-gamma==0.5.0) (1.2.0)\r\n",
      "Requirement already satisfied: intel-cmplr-lib-rt in /usr/local/lib/python3.10/dist-packages (from mkl_umath->numpy->autograd>=1.2.0->autograd-gamma==0.5.0) (2024.2.0)\r\n",
      "Requirement already satisfied: intel-cmplr-lib-ur==2024.2.0 in /usr/local/lib/python3.10/dist-packages (from intel-openmp>=2024->mkl->numpy->autograd>=1.2.0->autograd-gamma==0.5.0) (2024.2.0)\r\n",
      "Building wheels for collected packages: autograd-gamma\r\n",
      "  Building wheel for autograd-gamma (setup.py) ... \u001b[?25l\u001b[?25hdone\r\n",
      "  Created wheel for autograd-gamma: filename=autograd_gamma-0.5.0-py3-none-any.whl size=4031 sha256=d809b033b23f19c0d43e1260d216a7318a974caed9aa540ddcf00824cfd9a8e3\r\n",
      "  Stored in directory: /root/.cache/pip/wheels/6b/b5/e0/4c79e15c0b5f2c15ecf613c720bb20daab20a666eb67135155\r\n",
      "Successfully built autograd-gamma\r\n",
      "Installing collected packages: autograd-gamma\r\n",
      "Successfully installed autograd-gamma-0.5.0\r\n",
      "Processing /kaggle/input/pip-install-lifelines/interface_meta-1.3.0-py3-none-any.whl\r\n",
      "Installing collected packages: interface-meta\r\n",
      "Successfully installed interface-meta-1.3.0\r\n",
      "Processing /kaggle/input/pip-install-lifelines/formulaic-1.0.2-py3-none-any.whl\r\n",
      "Requirement already satisfied: interface-meta>=1.2.0 in /usr/local/lib/python3.10/dist-packages (from formulaic==1.0.2) (1.3.0)\r\n",
      "Requirement already satisfied: numpy>=1.16.5 in /usr/local/lib/python3.10/dist-packages (from formulaic==1.0.2) (1.26.4)\r\n",
      "Requirement already satisfied: pandas>=1.0 in /usr/local/lib/python3.10/dist-packages (from formulaic==1.0.2) (2.2.2)\r\n",
      "Requirement already satisfied: scipy>=1.6 in /usr/local/lib/python3.10/dist-packages (from formulaic==1.0.2) (1.13.1)\r\n",
      "Requirement already satisfied: typing-extensions>=4.2.0 in /usr/local/lib/python3.10/dist-packages (from formulaic==1.0.2) (4.12.2)\r\n",
      "Requirement already satisfied: wrapt>=1.0 in /usr/local/lib/python3.10/dist-packages (from formulaic==1.0.2) (1.17.0)\r\n",
      "Requirement already satisfied: mkl_fft in /usr/local/lib/python3.10/dist-packages (from numpy>=1.16.5->formulaic==1.0.2) (1.3.8)\r\n",
      "Requirement already satisfied: mkl_random in /usr/local/lib/python3.10/dist-packages (from numpy>=1.16.5->formulaic==1.0.2) (1.2.4)\r\n",
      "Requirement already satisfied: mkl_umath in /usr/local/lib/python3.10/dist-packages (from numpy>=1.16.5->formulaic==1.0.2) (0.1.1)\r\n",
      "Requirement already satisfied: mkl in /usr/local/lib/python3.10/dist-packages (from numpy>=1.16.5->formulaic==1.0.2) (2025.0.1)\r\n",
      "Requirement already satisfied: tbb4py in /usr/local/lib/python3.10/dist-packages (from numpy>=1.16.5->formulaic==1.0.2) (2022.0.0)\r\n",
      "Requirement already satisfied: mkl-service in /usr/local/lib/python3.10/dist-packages (from numpy>=1.16.5->formulaic==1.0.2) (2.4.1)\r\n",
      "Requirement already satisfied: python-dateutil>=2.8.2 in /usr/local/lib/python3.10/dist-packages (from pandas>=1.0->formulaic==1.0.2) (2.8.2)\r\n",
      "Requirement already satisfied: pytz>=2020.1 in /usr/local/lib/python3.10/dist-packages (from pandas>=1.0->formulaic==1.0.2) (2024.2)\r\n",
      "Requirement already satisfied: tzdata>=2022.7 in /usr/local/lib/python3.10/dist-packages (from pandas>=1.0->formulaic==1.0.2) (2024.2)\r\n",
      "Requirement already satisfied: six>=1.5 in /usr/local/lib/python3.10/dist-packages (from python-dateutil>=2.8.2->pandas>=1.0->formulaic==1.0.2) (1.17.0)\r\n",
      "Requirement already satisfied: intel-openmp>=2024 in /usr/local/lib/python3.10/dist-packages (from mkl->numpy>=1.16.5->formulaic==1.0.2) (2024.2.0)\r\n",
      "Requirement already satisfied: tbb==2022.* in /usr/local/lib/python3.10/dist-packages (from mkl->numpy>=1.16.5->formulaic==1.0.2) (2022.0.0)\r\n",
      "Requirement already satisfied: tcmlib==1.* in /usr/local/lib/python3.10/dist-packages (from tbb==2022.*->mkl->numpy>=1.16.5->formulaic==1.0.2) (1.2.0)\r\n",
      "Requirement already satisfied: intel-cmplr-lib-rt in /usr/local/lib/python3.10/dist-packages (from mkl_umath->numpy>=1.16.5->formulaic==1.0.2) (2024.2.0)\r\n",
      "Requirement already satisfied: intel-cmplr-lib-ur==2024.2.0 in /usr/local/lib/python3.10/dist-packages (from intel-openmp>=2024->mkl->numpy>=1.16.5->formulaic==1.0.2) (2024.2.0)\r\n",
      "Installing collected packages: formulaic\r\n",
      "Successfully installed formulaic-1.0.2\r\n",
      "Processing /kaggle/input/pip-install-lifelines/lifelines-0.30.0-py3-none-any.whl\r\n",
      "Requirement already satisfied: numpy>=1.14.0 in /usr/local/lib/python3.10/dist-packages (from lifelines==0.30.0) (1.26.4)\r\n",
      "Requirement already satisfied: scipy>=1.7.0 in /usr/local/lib/python3.10/dist-packages (from lifelines==0.30.0) (1.13.1)\r\n",
      "Requirement already satisfied: pandas>=2.1 in /usr/local/lib/python3.10/dist-packages (from lifelines==0.30.0) (2.2.2)\r\n",
      "Requirement already satisfied: matplotlib>=3.0 in /usr/local/lib/python3.10/dist-packages (from lifelines==0.30.0) (3.7.5)\r\n",
      "Requirement already satisfied: autograd>=1.5 in /usr/local/lib/python3.10/dist-packages (from lifelines==0.30.0) (1.7.0)\r\n",
      "Requirement already satisfied: autograd-gamma>=0.3 in /usr/local/lib/python3.10/dist-packages (from lifelines==0.30.0) (0.5.0)\r\n",
      "Requirement already satisfied: formulaic>=0.2.2 in /usr/local/lib/python3.10/dist-packages (from lifelines==0.30.0) (1.0.2)\r\n",
      "Requirement already satisfied: interface-meta>=1.2.0 in /usr/local/lib/python3.10/dist-packages (from formulaic>=0.2.2->lifelines==0.30.0) (1.3.0)\r\n",
      "Requirement already satisfied: typing-extensions>=4.2.0 in /usr/local/lib/python3.10/dist-packages (from formulaic>=0.2.2->lifelines==0.30.0) (4.12.2)\r\n",
      "Requirement already satisfied: wrapt>=1.0 in /usr/local/lib/python3.10/dist-packages (from formulaic>=0.2.2->lifelines==0.30.0) (1.17.0)\r\n",
      "Requirement already satisfied: contourpy>=1.0.1 in /usr/local/lib/python3.10/dist-packages (from matplotlib>=3.0->lifelines==0.30.0) (1.3.1)\r\n",
      "Requirement already satisfied: cycler>=0.10 in /usr/local/lib/python3.10/dist-packages (from matplotlib>=3.0->lifelines==0.30.0) (0.12.1)\r\n",
      "Requirement already satisfied: fonttools>=4.22.0 in /usr/local/lib/python3.10/dist-packages (from matplotlib>=3.0->lifelines==0.30.0) (4.55.3)\r\n",
      "Requirement already satisfied: kiwisolver>=1.0.1 in /usr/local/lib/python3.10/dist-packages (from matplotlib>=3.0->lifelines==0.30.0) (1.4.7)\r\n",
      "Requirement already satisfied: packaging>=20.0 in /usr/local/lib/python3.10/dist-packages (from matplotlib>=3.0->lifelines==0.30.0) (24.2)\r\n",
      "Requirement already satisfied: pillow>=6.2.0 in /usr/local/lib/python3.10/dist-packages (from matplotlib>=3.0->lifelines==0.30.0) (11.0.0)\r\n",
      "Requirement already satisfied: pyparsing>=2.3.1 in /usr/local/lib/python3.10/dist-packages (from matplotlib>=3.0->lifelines==0.30.0) (3.2.0)\r\n",
      "Requirement already satisfied: python-dateutil>=2.7 in /usr/local/lib/python3.10/dist-packages (from matplotlib>=3.0->lifelines==0.30.0) (2.8.2)\r\n",
      "Requirement already satisfied: mkl_fft in /usr/local/lib/python3.10/dist-packages (from numpy>=1.14.0->lifelines==0.30.0) (1.3.8)\r\n",
      "Requirement already satisfied: mkl_random in /usr/local/lib/python3.10/dist-packages (from numpy>=1.14.0->lifelines==0.30.0) (1.2.4)\r\n",
      "Requirement already satisfied: mkl_umath in /usr/local/lib/python3.10/dist-packages (from numpy>=1.14.0->lifelines==0.30.0) (0.1.1)\r\n",
      "Requirement already satisfied: mkl in /usr/local/lib/python3.10/dist-packages (from numpy>=1.14.0->lifelines==0.30.0) (2025.0.1)\r\n",
      "Requirement already satisfied: tbb4py in /usr/local/lib/python3.10/dist-packages (from numpy>=1.14.0->lifelines==0.30.0) (2022.0.0)\r\n",
      "Requirement already satisfied: mkl-service in /usr/local/lib/python3.10/dist-packages (from numpy>=1.14.0->lifelines==0.30.0) (2.4.1)\r\n",
      "Requirement already satisfied: pytz>=2020.1 in /usr/local/lib/python3.10/dist-packages (from pandas>=2.1->lifelines==0.30.0) (2024.2)\r\n",
      "Requirement already satisfied: tzdata>=2022.7 in /usr/local/lib/python3.10/dist-packages (from pandas>=2.1->lifelines==0.30.0) (2024.2)\r\n",
      "Requirement already satisfied: six>=1.5 in /usr/local/lib/python3.10/dist-packages (from python-dateutil>=2.7->matplotlib>=3.0->lifelines==0.30.0) (1.17.0)\r\n",
      "Requirement already satisfied: intel-openmp>=2024 in /usr/local/lib/python3.10/dist-packages (from mkl->numpy>=1.14.0->lifelines==0.30.0) (2024.2.0)\r\n",
      "Requirement already satisfied: tbb==2022.* in /usr/local/lib/python3.10/dist-packages (from mkl->numpy>=1.14.0->lifelines==0.30.0) (2022.0.0)\r\n",
      "Requirement already satisfied: tcmlib==1.* in /usr/local/lib/python3.10/dist-packages (from tbb==2022.*->mkl->numpy>=1.14.0->lifelines==0.30.0) (1.2.0)\r\n",
      "Requirement already satisfied: intel-cmplr-lib-rt in /usr/local/lib/python3.10/dist-packages (from mkl_umath->numpy>=1.14.0->lifelines==0.30.0) (2024.2.0)\r\n",
      "Requirement already satisfied: intel-cmplr-lib-ur==2024.2.0 in /usr/local/lib/python3.10/dist-packages (from intel-openmp>=2024->mkl->numpy>=1.14.0->lifelines==0.30.0) (2024.2.0)\r\n",
      "Installing collected packages: lifelines\r\n",
      "Successfully installed lifelines-0.30.0\r\n"
     ]
    }
   ],
   "source": [
    "!pip install /kaggle/input/pip-install-lifelines/autograd-1.7.0-py3-none-any.whl\n",
    "!pip install /kaggle/input/pip-install-lifelines/autograd-gamma-0.5.0.tar.gz\n",
    "!pip install /kaggle/input/pip-install-lifelines/interface_meta-1.3.0-py3-none-any.whl\n",
    "!pip install /kaggle/input/pip-install-lifelines/formulaic-1.0.2-py3-none-any.whl\n",
    "!pip install /kaggle/input/pip-install-lifelines/lifelines-0.30.0-py3-none-any.whl"
   ]
  },
  {
   "cell_type": "code",
   "execution_count": 2,
   "id": "1272992f",
   "metadata": {
    "execution": {
     "iopub.execute_input": "2025-02-14T04:39:12.252982Z",
     "iopub.status.busy": "2025-02-14T04:39:12.252619Z",
     "iopub.status.idle": "2025-02-14T04:39:16.227692Z",
     "shell.execute_reply": "2025-02-14T04:39:16.226496Z"
    },
    "papermill": {
     "duration": 3.98319,
     "end_time": "2025-02-14T04:39:16.230236",
     "exception": false,
     "start_time": "2025-02-14T04:39:12.247046",
     "status": "completed"
    },
    "tags": []
   },
   "outputs": [],
   "source": [
    "import numpy as np\n",
    "import pandas as pd\n",
    "import polars as pl\n",
    "from lifelines import KaplanMeierFitter\n",
    "import xgboost as xgb\n",
    "import pickle\n",
    "import joblib"
   ]
  },
  {
   "cell_type": "code",
   "execution_count": 3,
   "id": "cad32bba",
   "metadata": {
    "execution": {
     "iopub.execute_input": "2025-02-14T04:39:16.241356Z",
     "iopub.status.busy": "2025-02-14T04:39:16.240744Z",
     "iopub.status.idle": "2025-02-14T04:39:16.247191Z",
     "shell.execute_reply": "2025-02-14T04:39:16.246018Z"
    },
    "papermill": {
     "duration": 0.014091,
     "end_time": "2025-02-14T04:39:16.249145",
     "exception": false,
     "start_time": "2025-02-14T04:39:16.235054",
     "status": "completed"
    },
    "tags": []
   },
   "outputs": [],
   "source": [
    "class Pipeline:\n",
    "    @staticmethod\n",
    "    def merge_fold(df, fold_path):\n",
    "        fold_df = pl.read_csv(fold_path)\n",
    "        df = df.join(fold_df, on=\"ID\", how=\"inner\")\n",
    "        return df\n",
    "    \n",
    "    def create_kaplanmeier_label(df):\n",
    "        kmf = KaplanMeierFitter()\n",
    "        kmf.fit(df[\"efs_time\"], df[\"efs\"])\n",
    "        y = kmf.survival_function_at_times(df[\"efs_time\"]).values\n",
    "        df = df.with_columns(\n",
    "            pl.Series(\"km_label\", y)\n",
    "        )\n",
    "        return df"
   ]
  },
  {
   "cell_type": "code",
   "execution_count": 4,
   "id": "79f5897b",
   "metadata": {
    "execution": {
     "iopub.execute_input": "2025-02-14T04:39:16.259573Z",
     "iopub.status.busy": "2025-02-14T04:39:16.259160Z",
     "iopub.status.idle": "2025-02-14T04:39:16.378113Z",
     "shell.execute_reply": "2025-02-14T04:39:16.376626Z"
    },
    "papermill": {
     "duration": 0.126404,
     "end_time": "2025-02-14T04:39:16.380262",
     "exception": false,
     "start_time": "2025-02-14T04:39:16.253858",
     "status": "completed"
    },
    "tags": []
   },
   "outputs": [],
   "source": [
    "df_test = pl.read_csv(\"/kaggle/input/equity-post-HCT-survival-predictions/test.csv\")"
   ]
  },
  {
   "cell_type": "code",
   "execution_count": 5,
   "id": "eb3ed494",
   "metadata": {
    "execution": {
     "iopub.execute_input": "2025-02-14T04:39:16.390876Z",
     "iopub.status.busy": "2025-02-14T04:39:16.390489Z",
     "iopub.status.idle": "2025-02-14T04:39:16.395803Z",
     "shell.execute_reply": "2025-02-14T04:39:16.394670Z"
    },
    "papermill": {
     "duration": 0.012801,
     "end_time": "2025-02-14T04:39:16.397672",
     "exception": false,
     "start_time": "2025-02-14T04:39:16.384871",
     "status": "completed"
    },
    "tags": []
   },
   "outputs": [],
   "source": [
    "def c_index_metric(\n",
    "        y_true: np.ndarray, \n",
    "        y_pred: np.ndarray\n",
    "    ):\n",
    "    \"\"\"\n",
    "    WARNING: y_true will not be used in this function.\n",
    "    \"\"\"\n",
    "    global df_val\n",
    "    # submission_df = pd.DataFrame(y_pred[:, 0], columns=[\"prediction\"])\n",
    "    submission_df = pd.DataFrame(y_pred, columns=[\"prediction\"])\n",
    "    return -score(df_val, submission_df)"
   ]
  },
  {
   "cell_type": "code",
   "execution_count": 6,
   "id": "479246b6",
   "metadata": {
    "execution": {
     "iopub.execute_input": "2025-02-14T04:39:16.408621Z",
     "iopub.status.busy": "2025-02-14T04:39:16.408226Z",
     "iopub.status.idle": "2025-02-14T04:39:18.210035Z",
     "shell.execute_reply": "2025-02-14T04:39:18.208591Z"
    },
    "papermill": {
     "duration": 1.809541,
     "end_time": "2025-02-14T04:39:18.212127",
     "exception": false,
     "start_time": "2025-02-14T04:39:16.402586",
     "status": "completed"
    },
    "tags": []
   },
   "outputs": [
    {
     "name": "stdout",
     "output_type": "stream",
     "text": [
      "Loading model XGB - 0\n",
      "Loading model XGB - 1\n",
      "Loading model XGB - 2\n",
      "Loading model XGB - 3\n",
      "Loading model XGB - 4\n",
      "Loading model XGB - 5\n"
     ]
    }
   ],
   "source": [
    "xgb_models = []\n",
    "cat_encoders = []\n",
    "for i in range(6):\n",
    "    print(f\"Loading model XGB - {i}\")\n",
    "    # model = xgb.XGBRegressor()\n",
    "    # model.load_model(fname=f\"/kaggle/input/cibmtr-xgb-kplm/xgb_kaplanmeier_encode_fold{i}.json\")\n",
    "    model = joblib.load(f\"/kaggle/input/cibmtr-xgb-nelson-cv4/xgb_nelson_cv4_fold{i}.joblib\")\n",
    "\n",
    "    xgb_models.append(model)\n",
    "    cat_encoders.append(joblib.load(f\"/kaggle/input/cibmtr-xgb-nelson-cv4/cat_encoder_fold{i}\"))"
   ]
  },
  {
   "cell_type": "code",
   "execution_count": 7,
   "id": "2e742db5",
   "metadata": {
    "execution": {
     "iopub.execute_input": "2025-02-14T04:39:18.223543Z",
     "iopub.status.busy": "2025-02-14T04:39:18.222965Z",
     "iopub.status.idle": "2025-02-14T04:39:18.891038Z",
     "shell.execute_reply": "2025-02-14T04:39:18.890049Z"
    },
    "papermill": {
     "duration": 0.676119,
     "end_time": "2025-02-14T04:39:18.893227",
     "exception": false,
     "start_time": "2025-02-14T04:39:18.217108",
     "status": "completed"
    },
    "tags": []
   },
   "outputs": [
    {
     "name": "stdout",
     "output_type": "stream",
     "text": [
      "XGB - Fold 0\n",
      "XGB - Fold 1\n",
      "XGB - Fold 2\n",
      "XGB - Fold 3\n",
      "XGB - Fold 4\n",
      "XGB - Fold 5\n"
     ]
    }
   ],
   "source": [
    "xgb_preds = []\n",
    "for i in range(6):\n",
    "    print(f\"XGB - Fold {i}\")\n",
    "    model = xgb_models[i]\n",
    "    cat_encoder = cat_encoders[i]\n",
    "    \n",
    "    X_xgb = df_test.select(model.feature_names_in_).to_pandas()\n",
    "    \n",
    "    for col in [f for f in X_xgb.select_dtypes([\"object\"]).columns if f in model.feature_names_in_]:\n",
    "        X_xgb[col] = X_xgb[col].astype('category')\n",
    "\n",
    "    X_xgb = cat_encoder.transform(X_xgb)\n",
    "    pred = model.predict(X_xgb)\n",
    "    xgb_preds.append(pred)"
   ]
  },
  {
   "cell_type": "code",
   "execution_count": 8,
   "id": "b5935855",
   "metadata": {
    "execution": {
     "iopub.execute_input": "2025-02-14T04:39:18.906797Z",
     "iopub.status.busy": "2025-02-14T04:39:18.906430Z",
     "iopub.status.idle": "2025-02-14T04:39:18.930575Z",
     "shell.execute_reply": "2025-02-14T04:39:18.929531Z"
    },
    "papermill": {
     "duration": 0.033227,
     "end_time": "2025-02-14T04:39:18.932696",
     "exception": false,
     "start_time": "2025-02-14T04:39:18.899469",
     "status": "completed"
    },
    "tags": []
   },
   "outputs": [],
   "source": [
    "df_test = df_test.with_columns(\n",
    "    prediction=pl.Series(np.mean(xgb_preds, axis=0)),\n",
    ")"
   ]
  },
  {
   "cell_type": "code",
   "execution_count": 9,
   "id": "eeda8b3c",
   "metadata": {
    "execution": {
     "iopub.execute_input": "2025-02-14T04:39:18.943935Z",
     "iopub.status.busy": "2025-02-14T04:39:18.943588Z",
     "iopub.status.idle": "2025-02-14T04:39:18.958424Z",
     "shell.execute_reply": "2025-02-14T04:39:18.956895Z"
    },
    "papermill": {
     "duration": 0.023054,
     "end_time": "2025-02-14T04:39:18.960800",
     "exception": false,
     "start_time": "2025-02-14T04:39:18.937746",
     "status": "completed"
    },
    "tags": []
   },
   "outputs": [],
   "source": [
    "df_test.select(\"ID\", \"prediction\").to_pandas().to_csv(\"submission.csv\", index=False)"
   ]
  },
  {
   "cell_type": "code",
   "execution_count": 10,
   "id": "3f82e8a6",
   "metadata": {
    "execution": {
     "iopub.execute_input": "2025-02-14T04:39:18.972261Z",
     "iopub.status.busy": "2025-02-14T04:39:18.971779Z",
     "iopub.status.idle": "2025-02-14T04:39:18.993645Z",
     "shell.execute_reply": "2025-02-14T04:39:18.992250Z"
    },
    "papermill": {
     "duration": 0.029775,
     "end_time": "2025-02-14T04:39:18.995649",
     "exception": false,
     "start_time": "2025-02-14T04:39:18.965874",
     "status": "completed"
    },
    "tags": []
   },
   "outputs": [
    {
     "data": {
      "text/html": [
       "<div>\n",
       "<style scoped>\n",
       "    .dataframe tbody tr th:only-of-type {\n",
       "        vertical-align: middle;\n",
       "    }\n",
       "\n",
       "    .dataframe tbody tr th {\n",
       "        vertical-align: top;\n",
       "    }\n",
       "\n",
       "    .dataframe thead th {\n",
       "        text-align: right;\n",
       "    }\n",
       "</style>\n",
       "<table border=\"1\" class=\"dataframe\">\n",
       "  <thead>\n",
       "    <tr style=\"text-align: right;\">\n",
       "      <th></th>\n",
       "      <th>ID</th>\n",
       "      <th>prediction</th>\n",
       "    </tr>\n",
       "  </thead>\n",
       "  <tbody>\n",
       "    <tr>\n",
       "      <th>0</th>\n",
       "      <td>28800</td>\n",
       "      <td>-0.732693</td>\n",
       "    </tr>\n",
       "    <tr>\n",
       "      <th>1</th>\n",
       "      <td>28801</td>\n",
       "      <td>-0.466637</td>\n",
       "    </tr>\n",
       "    <tr>\n",
       "      <th>2</th>\n",
       "      <td>28802</td>\n",
       "      <td>-0.786942</td>\n",
       "    </tr>\n",
       "  </tbody>\n",
       "</table>\n",
       "</div>"
      ],
      "text/plain": [
       "      ID  prediction\n",
       "0  28800   -0.732693\n",
       "1  28801   -0.466637\n",
       "2  28802   -0.786942"
      ]
     },
     "execution_count": 10,
     "metadata": {},
     "output_type": "execute_result"
    }
   ],
   "source": [
    "pd.read_csv(\"submission.csv\")"
   ]
  }
 ],
 "metadata": {
  "kaggle": {
   "accelerator": "none",
   "dataSources": [
    {
     "databundleVersionId": 10381525,
     "sourceId": 70942,
     "sourceType": "competition"
    },
    {
     "datasetId": 6664350,
     "sourceId": 10746165,
     "sourceType": "datasetVersion"
    },
    {
     "sourceId": 211322530,
     "sourceType": "kernelVersion"
    }
   ],
   "dockerImageVersionId": 30839,
   "isGpuEnabled": false,
   "isInternetEnabled": false,
   "language": "python",
   "sourceType": "notebook"
  },
  "kernelspec": {
   "display_name": "Python 3",
   "language": "python",
   "name": "python3"
  },
  "language_info": {
   "codemirror_mode": {
    "name": "ipython",
    "version": 3
   },
   "file_extension": ".py",
   "mimetype": "text/x-python",
   "name": "python",
   "nbconvert_exporter": "python",
   "pygments_lexer": "ipython3",
   "version": "3.10.12"
  },
  "papermill": {
   "default_parameters": {},
   "duration": 38.677653,
   "end_time": "2025-02-14T04:39:19.922689",
   "environment_variables": {},
   "exception": null,
   "input_path": "__notebook__.ipynb",
   "output_path": "__notebook__.ipynb",
   "parameters": {},
   "start_time": "2025-02-14T04:38:41.245036",
   "version": "2.6.0"
  }
 },
 "nbformat": 4,
 "nbformat_minor": 5
}
